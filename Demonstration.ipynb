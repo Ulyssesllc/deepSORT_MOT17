{
  "cells": [
    {
      "cell_type": "code",
      "execution_count": 1,
      "metadata": {
        "colab": {
          "base_uri": "https://localhost:8080/"
        },
        "id": "0IWmTLDq2N2W",
        "outputId": "5684c80d-8cbe-43ba-b26a-33b78717385d"
      },
      "outputs": [
        {
          "name": "stdout",
          "output_type": "stream",
          "text": [
            "Mounted at /content/drive\n"
          ]
        }
      ],
      "source": [
        "from google.colab import drive\n",
        "drive.mount('/content/drive')"
      ]
    },
    {
      "cell_type": "code",
      "execution_count": null,
      "metadata": {
        "colab": {
          "base_uri": "https://localhost:8080/"
        },
        "id": "9613edef",
        "outputId": "f6622105-da74-41cd-8394-0b80a260309a"
      },
      "outputs": [
        {
          "name": "stdout",
          "output_type": "stream",
          "text": [
            "Cloning into 'deepSORT_MOT17'...\n",
            "remote: Enumerating objects: 11486, done.\u001b[K\n",
            "remote: Counting objects: 100% (21/21), done.\u001b[K\n",
            "remote: Compressing objects: 100% (15/15), done.\u001b[K\n",
            "remote: Total 11486 (delta 9), reused 16 (delta 6), pack-reused 11465 (from 1)\u001b[K\n",
            "Receiving objects: 100% (11486/11486), 1.82 GiB | 43.22 MiB/s, done.\n",
            "Resolving deltas: 100% (30/30), done.\n"
          ]
        }
      ],
      "source": [
        "import os\n",
        "if not os.path.exists('deepSORT_MOT17'):\n",
        "  !git clone https://github.com/Ulyssesllc/deepSORT_MOT17.git\n",
        "else:\n",
        "  !git -C deepSORT_MOT17 pull --ff-only"
      ]
    },
    {
      "cell_type": "code",
      "execution_count": null,
      "metadata": {
        "id": "lNfRFffn2Phh"
      },
      "outputs": [],
      "source": [
        "# Sync MOT17 directly from Drive into the repo to keep the repo slim\n",
        "repo_root = '/content/deepSORT_MOT17'\n",
        "drive_zip = '/content/drive/MyDrive/MOT17.zip'\n",
        "drive_dir = '/content/drive/MyDrive/MOT17'\n",
        "\n",
        "import os\n",
        "os.makedirs(repo_root, exist_ok=True)\n",
        "\n",
        "# Prefer syncing the folder if it exists (faster, incremental). Otherwise unzip the ZIP directly into the repo.\n",
        "if os.path.exists(drive_dir):\n",
        "  print('Syncing MOT17 folder from Drive ->', f'{repo_root}/MOT17')\n",
        "  !rsync -a --delete \"/content/drive/MyDrive/MOT17/\" \"/content/deepSORT_MOT17/MOT17/\"\n",
        "elif os.path.exists(drive_zip):\n",
        "  print('Unzipping MOT17.zip from Drive into repo ->', repo_root)\n",
        "  !unzip -q \"/content/drive/MyDrive/MOT17.zip\" -d \"/content/deepSORT_MOT17\"\n",
        "else:\n",
        "  raise SystemExit('MOT17 source not found on Drive. Provide MOT17/ folder or MOT17.zip in MyDrive.')\n",
        "\n",
        "# Verify a few entries\n",
        "print('Top-level sequences under repo MOT17/:')\n",
        "!ls -1 \"/content/deepSORT_MOT17/MOT17\" | head -n 10"
      ]
    },
    {
      "cell_type": "code",
      "execution_count": null,
      "metadata": {
        "colab": {
          "base_uri": "https://localhost:8080/"
        },
        "id": "35d6304d",
        "outputId": "da0d984f-d6f9-4ec1-d91f-a45822e0d000"
      },
      "outputs": [
        {
          "name": "stdout",
          "output_type": "stream",
          "text": [
            "Requirement already satisfied: numpy in /usr/local/lib/python3.12/dist-packages (from -r requirements.txt (line 1)) (2.0.2)\n",
            "Requirement already satisfied: opencv-python in /usr/local/lib/python3.12/dist-packages (from -r requirements.txt (line 2)) (4.12.0.88)\n",
            "Requirement already satisfied: scipy in /usr/local/lib/python3.12/dist-packages (from -r requirements.txt (line 3)) (1.16.1)\n",
            "Collecting motmetrics (from -r requirements.txt (line 4))\n",
            "  Downloading motmetrics-1.4.0-py3-none-any.whl.metadata (20 kB)\n",
            "Requirement already satisfied: pandas>=0.23.1 in /usr/local/lib/python3.12/dist-packages (from motmetrics->-r requirements.txt (line 4)) (2.2.2)\n",
            "Collecting xmltodict>=0.12.0 (from motmetrics->-r requirements.txt (line 4))\n",
            "  Downloading xmltodict-0.14.2-py2.py3-none-any.whl.metadata (8.0 kB)\n",
            "Requirement already satisfied: python-dateutil>=2.8.2 in /usr/local/lib/python3.12/dist-packages (from pandas>=0.23.1->motmetrics->-r requirements.txt (line 4)) (2.9.0.post0)\n",
            "Requirement already satisfied: pytz>=2020.1 in /usr/local/lib/python3.12/dist-packages (from pandas>=0.23.1->motmetrics->-r requirements.txt (line 4)) (2025.2)\n",
            "Requirement already satisfied: tzdata>=2022.7 in /usr/local/lib/python3.12/dist-packages (from pandas>=0.23.1->motmetrics->-r requirements.txt (line 4)) (2025.2)\n",
            "Requirement already satisfied: six>=1.5 in /usr/local/lib/python3.12/dist-packages (from python-dateutil>=2.8.2->pandas>=0.23.1->motmetrics->-r requirements.txt (line 4)) (1.17.0)\n",
            "Downloading motmetrics-1.4.0-py3-none-any.whl (161 kB)\n",
            "\u001b[2K   \u001b[90m━━━━━━━━━━━━━━━━━━━━━━━━━━━━━━━━━━━━━━━━\u001b[0m \u001b[32m161.5/161.5 kB\u001b[0m \u001b[31m5.0 MB/s\u001b[0m eta \u001b[36m0:00:00\u001b[0m\n",
            "\u001b[?25hDownloading xmltodict-0.14.2-py2.py3-none-any.whl (10.0 kB)\n",
            "Installing collected packages: xmltodict, motmetrics\n",
            "Successfully installed motmetrics-1.4.0 xmltodict-0.14.2\n"
          ]
        }
      ],
      "source": [
        "import os\n",
        "\n",
        "os.chdir('deepSORT_MOT17')\n",
        "!pip install -r requirements.txt\n",
        "# Ensure TF packages available on Colab for feature extraction\n",
        "!pip install tensorflow tf-keras tf-slim\n",
        "# Ensure ffmpeg is present for video conversion\n",
        "!apt-get update -y && apt-get install -y ffmpeg"
      ]
    },
    {
      "cell_type": "code",
      "execution_count": 5,
      "metadata": {
        "colab": {
          "base_uri": "https://localhost:8080/"
        },
        "id": "pYRT2vJL0mpv",
        "outputId": "6d39b93e-1368-4ec4-be0c-2442921b2534"
      },
      "outputs": [
        {
          "name": "stdout",
          "output_type": "stream",
          "text": [
            "Model exists: False -> resources/networks/mars-small128.pb\n"
          ]
        }
      ],
      "source": [
        "# Ensure the MARS ReID model exists at expected path\n",
        "import pathlib\n",
        "model_dst = pathlib.Path('resources/networks/mars-small128.pb')\n",
        "model_dst.parent.mkdir(parents=True, exist_ok=True)\n",
        "# If you have it on Drive, copy it; else download from your own link\n",
        "# Example (adjust the source path accordingly):\n",
        "# !cp /content/drive/MyDrive/models/mars-small128.pb resources/networks/mars-small128.pb\n",
        "print('Model exists:', model_dst.exists(), '->', model_dst)"
      ]
    },
    {
      "cell_type": "code",
      "execution_count": 6,
      "metadata": {
        "colab": {
          "base_uri": "https://localhost:8080/"
        },
        "id": "QkyhdNEL5jyG",
        "outputId": "b69da869-c061-4f36-d18e-453ee8e92b26"
      },
      "outputs": [
        {
          "name": "stdout",
          "output_type": "stream",
          "text": [
            "Skipping validation pre-generation. Will validate after features are created.\n"
          ]
        }
      ],
      "source": [
        "# Optional: validate after features are generated. Skip now to avoid failing before creation.\n",
        "# !python validate_paths.py \\\n",
        "#   --sequence_dir MOT17/train/MOT17-04-FRCNN \\\n",
        "#   --detection_file detections/MOT17-04-FRCNN.npy\n",
        "print('Skipping validation pre-generation. Will validate after features are created.')"
      ]
    },
    {
      "cell_type": "code",
      "execution_count": 7,
      "metadata": {
        "colab": {
          "base_uri": "https://localhost:8080/"
        },
        "id": "FcgWd0i-5qZp",
        "outputId": "8324b28f-2a0d-495a-8c5e-dc5b6cf8c04b"
      },
      "outputs": [
        {
          "name": "stdout",
          "output_type": "stream",
          "text": [
            "2025-08-28 08:44:52.422662: E external/local_xla/xla/stream_executor/cuda/cuda_fft.cc:467] Unable to register cuFFT factory: Attempting to register factory for plugin cuFFT when one has already been registered\n",
            "WARNING: All log messages before absl::InitializeLog() is called are written to STDERR\n",
            "E0000 00:00:1756370692.788804    2444 cuda_dnn.cc:8579] Unable to register cuDNN factory: Attempting to register factory for plugin cuDNN when one has already been registered\n",
            "E0000 00:00:1756370692.885716    2444 cuda_blas.cc:1407] Unable to register cuBLAS factory: Attempting to register factory for plugin cuBLAS when one has already been registered\n",
            "W0000 00:00:1756370693.613369    2444 computation_placer.cc:177] computation placer already registered. Please check linkage and avoid linking the same target more than once.\n",
            "W0000 00:00:1756370693.613410    2444 computation_placer.cc:177] computation placer already registered. Please check linkage and avoid linking the same target more than once.\n",
            "W0000 00:00:1756370693.613417    2444 computation_placer.cc:177] computation placer already registered. Please check linkage and avoid linking the same target more than once.\n",
            "W0000 00:00:1756370693.613424    2444 computation_placer.cc:177] computation placer already registered. Please check linkage and avoid linking the same target more than once.\n",
            "2025-08-28 08:44:53.694888: I tensorflow/core/platform/cpu_feature_guard.cc:210] This TensorFlow binary is optimized to use available CPU instructions in performance-critical operations.\n",
            "To enable the following instructions: AVX2 FMA, in other operations, rebuild TensorFlow with the appropriate compiler flags.\n",
            "[ERROR] Model file not found: /content/deepSORT_MOT17/resources/networks/mars-small128.pb\n",
            "Hints:\n",
            "- Ensure 'mars-small128.pb' exists at resources/networks/mars-small128.pb\n",
            "- Or pass an absolute path via: --model /path/to/mars-small128.pb\n"
          ]
        }
      ],
      "source": [
        "!python tools/generate_detections.py \\\n",
        "  --model /content/deepSORT_MOT17/resources/networks/mars-small128.pb \\\n",
        "  --mot_dir MOT17/train \\\n",
        "  --output_dir detections"
      ]
    },
    {
      "cell_type": "code",
      "execution_count": 8,
      "metadata": {
        "colab": {
          "base_uri": "https://localhost:8080/"
        },
        "id": "VAft62AI0mpw",
        "outputId": "16105872-3bbd-4af7-e99a-912737e387fc"
      },
      "outputs": [
        {
          "name": "stdout",
          "output_type": "stream",
          "text": [
            "2025-08-28 08:45:04.836876: E external/local_xla/xla/stream_executor/cuda/cuda_fft.cc:467] Unable to register cuFFT factory: Attempting to register factory for plugin cuFFT when one has already been registered\n",
            "WARNING: All log messages before absl::InitializeLog() is called are written to STDERR\n",
            "E0000 00:00:1756370704.871068    2537 cuda_dnn.cc:8579] Unable to register cuDNN factory: Attempting to register factory for plugin cuDNN when one has already been registered\n",
            "E0000 00:00:1756370704.881456    2537 cuda_blas.cc:1407] Unable to register cuBLAS factory: Attempting to register factory for plugin cuBLAS when one has already been registered\n",
            "W0000 00:00:1756370704.906064    2537 computation_placer.cc:177] computation placer already registered. Please check linkage and avoid linking the same target more than once.\n",
            "W0000 00:00:1756370704.906105    2537 computation_placer.cc:177] computation placer already registered. Please check linkage and avoid linking the same target more than once.\n",
            "W0000 00:00:1756370704.906115    2537 computation_placer.cc:177] computation placer already registered. Please check linkage and avoid linking the same target more than once.\n",
            "W0000 00:00:1756370704.906130    2537 computation_placer.cc:177] computation placer already registered. Please check linkage and avoid linking the same target more than once.\n",
            "2025-08-28 08:45:04.913186: I tensorflow/core/platform/cpu_feature_guard.cc:210] This TensorFlow binary is optimized to use available CPU instructions in performance-critical operations.\n",
            "To enable the following instructions: AVX2 FMA, in other operations, rebuild TensorFlow with the appropriate compiler flags.\n",
            "[ERROR] Model file not found: /content/deepSORT_MOT17/resources/networks/mars-small128.pb\n",
            "Hints:\n",
            "- Ensure 'mars-small128.pb' exists at resources/networks/mars-small128.pb\n",
            "- Or pass an absolute path via: --model /path/to/mars-small128.pb\n"
          ]
        }
      ],
      "source": [
        "# Also generate features for the test split (no gt there)\n",
        "!python tools/generate_detections.py \\\n",
        "  --model /content/deepSORT_MOT17/resources/networks/mars-small128.pb \\\n",
        "  --mot_dir MOT17/test \\\n",
        "  --output_dir detections"
      ]
    },
    {
      "cell_type": "code",
      "execution_count": 9,
      "metadata": {
        "colab": {
          "base_uri": "https://localhost:8080/"
        },
        "id": "oPlGuPOw0mpx",
        "outputId": "ee77e3e3-87bd-4edd-e263-d17fa0bfca36"
      },
      "outputs": [
        {
          "name": "stdout",
          "output_type": "stream",
          "text": [
            "[OK ] sequence_dir: MOT17/train/MOT17-04-FRCNN\n",
            "  - img1: OK\n",
            "  - det/det.txt: OK\n",
            "[FAIL] Không tìm thấy detection_file: detections/MOT17-04-FRCNN.npy\n",
            "\n",
            "Gợi ý:\n",
            "- Đặt dữ liệu theo cấu trúc: MOT17/train/<sequence>/{img1/, det/det.txt, (gt/gt.txt)}\n",
            "- Tạo đặc trưng bằng: python tools/generate_detections.py --mot_dir MOT17/train --output_dir detections\n"
          ]
        }
      ],
      "source": [
        "# Now that features exist, validate one sequence path and its .npy\n",
        "!python validate_paths.py \\\n",
        "  --sequence_dir MOT17/train/MOT17-04-FRCNN \\\n",
        "  --detection_file detections/MOT17-04-FRCNN.npy"
      ]
    },
    {
      "cell_type": "code",
      "execution_count": 10,
      "metadata": {
        "colab": {
          "base_uri": "https://localhost:8080/"
        },
        "id": "LVRternB5yug",
        "outputId": "94ff112b-db1e-472e-bcbf-339542bc9c52"
      },
      "outputs": [
        {
          "name": "stdout",
          "output_type": "stream",
          "text": [
            "[WARN] Missing detections for MOT17-02-DPM, expected: detections/MOT17-02-DPM.npy. Skipping.\n",
            "[WARN] Missing detections for MOT17-02-FRCNN, expected: detections/MOT17-02-FRCNN.npy. Skipping.\n",
            "[WARN] Missing detections for MOT17-02-SDP, expected: detections/MOT17-02-SDP.npy. Skipping.\n",
            "[WARN] Missing detections for MOT17-04-DPM, expected: detections/MOT17-04-DPM.npy. Skipping.\n",
            "[WARN] Missing detections for MOT17-04-FRCNN, expected: detections/MOT17-04-FRCNN.npy. Skipping.\n",
            "[WARN] Missing detections for MOT17-04-SDP, expected: detections/MOT17-04-SDP.npy. Skipping.\n",
            "[WARN] Missing detections for MOT17-05-DPM, expected: detections/MOT17-05-DPM.npy. Skipping.\n",
            "[WARN] Missing detections for MOT17-05-FRCNN, expected: detections/MOT17-05-FRCNN.npy. Skipping.\n",
            "[WARN] Missing detections for MOT17-05-SDP, expected: detections/MOT17-05-SDP.npy. Skipping.\n",
            "[WARN] Missing detections for MOT17-09-DPM, expected: detections/MOT17-09-DPM.npy. Skipping.\n",
            "[WARN] Missing detections for MOT17-09-FRCNN, expected: detections/MOT17-09-FRCNN.npy. Skipping.\n",
            "[WARN] Missing detections for MOT17-09-SDP, expected: detections/MOT17-09-SDP.npy. Skipping.\n",
            "[WARN] Missing detections for MOT17-10-DPM, expected: detections/MOT17-10-DPM.npy. Skipping.\n",
            "[WARN] Missing detections for MOT17-10-FRCNN, expected: detections/MOT17-10-FRCNN.npy. Skipping.\n",
            "[WARN] Missing detections for MOT17-10-SDP, expected: detections/MOT17-10-SDP.npy. Skipping.\n",
            "[WARN] Missing detections for MOT17-11-DPM, expected: detections/MOT17-11-DPM.npy. Skipping.\n",
            "[WARN] Missing detections for MOT17-11-FRCNN, expected: detections/MOT17-11-FRCNN.npy. Skipping.\n",
            "[WARN] Missing detections for MOT17-11-SDP, expected: detections/MOT17-11-SDP.npy. Skipping.\n",
            "[WARN] Missing detections for MOT17-13-DPM, expected: detections/MOT17-13-DPM.npy. Skipping.\n",
            "[WARN] Missing detections for MOT17-13-FRCNN, expected: detections/MOT17-13-FRCNN.npy. Skipping.\n",
            "[WARN] Missing detections for MOT17-13-SDP, expected: detections/MOT17-13-SDP.npy. Skipping.\n",
            "Done. Ran 0 sequences, skipped 21 (missing detections).\n"
          ]
        }
      ],
      "source": [
        "!python evaluate_motchallenge.py \\\n",
        "  --mot_dir MOT17/train \\\n",
        "  --detection_dir detections \\\n",
        "  --output_dir results \\\n",
        "  --min_confidence 0.3 \\\n",
        "  --nms_max_overlap 1.0 \\\n",
        "  --max_cosine_distance 0.2 \\\n",
        "  --nn_budget 100"
      ]
    },
    {
      "cell_type": "code",
      "execution_count": null,
      "metadata": {},
      "outputs": [],
      "source": [
        "# (Optional) Run tracker on test split as well (no GT there)\n",
        "!python evaluate_motchallenge.py \\\n",
        "  --mot_dir MOT17/test \\\n",
        "  --detection_dir detections \\\n",
        "  --output_dir results \\\n",
        "  --min_confidence 0.3 \\\n",
        "  --nms_max_overlap 1.0 \\\n",
        "  --max_cosine_distance 0.2 \\\n",
        "  --nn_budget 100"
      ]
    },
    {
      "cell_type": "code",
      "execution_count": 11,
      "metadata": {
        "colab": {
          "base_uri": "https://localhost:8080/"
        },
        "id": "XLKK330I0mpx",
        "outputId": "905e6f00-6c78-4e3c-ac5c-fd9833a58ef6"
      },
      "outputs": [
        {
          "name": "stdout",
          "output_type": "stream",
          "text": [
            "[WARN] Bỏ qua MOT17-02-DPM: thiếu gt hoặc kết quả.\n",
            "[WARN] Bỏ qua MOT17-02-FRCNN: thiếu gt hoặc kết quả.\n",
            "[WARN] Bỏ qua MOT17-02-SDP: thiếu gt hoặc kết quả.\n",
            "[WARN] Bỏ qua MOT17-04-DPM: thiếu gt hoặc kết quả.\n",
            "[WARN] Bỏ qua MOT17-04-FRCNN: thiếu gt hoặc kết quả.\n",
            "[WARN] Bỏ qua MOT17-04-SDP: thiếu gt hoặc kết quả.\n",
            "[WARN] Bỏ qua MOT17-05-DPM: thiếu gt hoặc kết quả.\n",
            "[WARN] Bỏ qua MOT17-05-FRCNN: thiếu gt hoặc kết quả.\n",
            "[WARN] Bỏ qua MOT17-05-SDP: thiếu gt hoặc kết quả.\n",
            "[WARN] Bỏ qua MOT17-09-DPM: thiếu gt hoặc kết quả.\n",
            "[WARN] Bỏ qua MOT17-09-FRCNN: thiếu gt hoặc kết quả.\n",
            "[WARN] Bỏ qua MOT17-09-SDP: thiếu gt hoặc kết quả.\n",
            "[WARN] Bỏ qua MOT17-10-DPM: thiếu gt hoặc kết quả.\n",
            "[WARN] Bỏ qua MOT17-10-FRCNN: thiếu gt hoặc kết quả.\n",
            "[WARN] Bỏ qua MOT17-10-SDP: thiếu gt hoặc kết quả.\n",
            "[WARN] Bỏ qua MOT17-11-DPM: thiếu gt hoặc kết quả.\n",
            "[WARN] Bỏ qua MOT17-11-FRCNN: thiếu gt hoặc kết quả.\n",
            "[WARN] Bỏ qua MOT17-11-SDP: thiếu gt hoặc kết quả.\n",
            "[WARN] Bỏ qua MOT17-13-DPM: thiếu gt hoặc kết quả.\n",
            "[WARN] Bỏ qua MOT17-13-FRCNN: thiếu gt hoặc kết quả.\n",
            "[WARN] Bỏ qua MOT17-13-SDP: thiếu gt hoặc kết quả.\n",
            "Không có sequence hợp lệ để đánh giá.\n"
          ]
        }
      ],
      "source": [
        "# Evaluate metrics on train split only (test split has no GT)\n",
        "!python evaluate_metrics.py \\\n",
        "  --mot_dir MOT17/train \\\n",
        "  --result_dir results \\\n",
        "  --output_csv mot17_train_metrics.csv \\\n",
        "  --min_iou 0.5"
      ]
    },
    {
      "cell_type": "code",
      "execution_count": 12,
      "metadata": {
        "colab": {
          "base_uri": "https://localhost:8080/"
        },
        "id": "ixDRkJ9R55Xu",
        "outputId": "1267aa3c-224b-4076-b1d3-764965e92c4d"
      },
      "outputs": [
        {
          "name": "stdout",
          "output_type": "stream",
          "text": [
            "Traceback (most recent call last):\n",
            "  File \"/content/deepSORT_MOT17/deep_sort_app.py\", line 332, in <module>\n",
            "    run(\n",
            "  File \"/content/deepSORT_MOT17/deep_sort_app.py\", line 200, in run\n",
            "    seq_info = gather_sequence_info(sequence_dir, detection_file)\n",
            "               ^^^^^^^^^^^^^^^^^^^^^^^^^^^^^^^^^^^^^^^^^^^^^^^^^^\n",
            "  File \"/content/deepSORT_MOT17/deep_sort_app.py\", line 69, in gather_sequence_info\n",
            "    raise FileNotFoundError(\n",
            "FileNotFoundError: Không tìm thấy detection_file: detections/MOT17-04-FRCNN.npy. Hãy chắc chắn đã tạo bằng tools/generate_detections.py.\n"
          ]
        }
      ],
      "source": [
        "!python deep_sort_app.py \\\n",
        "  --sequence_dir MOT17/train/MOT17-04-FRCNN \\\n",
        "  --detection_file detections/MOT17-04-FRCNN.npy \\\n",
        "  --output_file results/MOT17-04-FRCNN.txt \\\n",
        "  --min_confidence 0.3 \\\n",
        "  --nms_max_overlap 1.0 \\\n",
        "  --max_cosine_distance 0.2 \\\n",
        "  --nn_budget 100 \\\n",
        "  --display False"
      ]
    },
    {
      "cell_type": "code",
      "execution_count": 13,
      "metadata": {
        "colab": {
          "base_uri": "https://localhost:8080/"
        },
        "id": "lVaYbpR26Cpv",
        "outputId": "e603bd91-e840-426b-9d80-2b7a6d05bf76"
      },
      "outputs": [
        {
          "name": "stdout",
          "output_type": "stream",
          "text": [
            "Traceback (most recent call last):\n",
            "  File \"/content/deepSORT_MOT17/show_results.py\", line 128, in <module>\n",
            "    run(\n",
            "  File \"/content/deepSORT_MOT17/show_results.py\", line 43, in run\n",
            "    seq_info = deep_sort_app.gather_sequence_info(sequence_dir, detection_file)\n",
            "               ^^^^^^^^^^^^^^^^^^^^^^^^^^^^^^^^^^^^^^^^^^^^^^^^^^^^^^^^^^^^^^^^\n",
            "  File \"/content/deepSORT_MOT17/deep_sort_app.py\", line 69, in gather_sequence_info\n",
            "    raise FileNotFoundError(\n",
            "FileNotFoundError: Không tìm thấy detection_file: detections/MOT17-04-FRCNN.npy. Hãy chắc chắn đã tạo bằng tools/generate_detections.py.\n"
          ]
        }
      ],
      "source": [
        "# Visualize results: on Colab, this will render frames to a window-less viewer; use video export + inline preview below for display\n",
        "!python show_results.py \\\n",
        "  --sequence_dir MOT17/train/MOT17-04-FRCNN \\\n",
        "  --result_file results/MOT17-04-FRCNN.txt \\\n",
        "  --detection_file detections/MOT17-04-FRCNN.npy \\\n",
        "  --update_ms 20"
      ]
    },
    {
      "cell_type": "code",
      "execution_count": null,
      "metadata": {
        "id": "CnuFHzRy6FHO"
      },
      "outputs": [],
      "source": [
        "!python generate_videos.py \\\n",
        "  --mot_dir MOT17/train \\\n",
        "  --result_dir results \\\n",
        "  --detection_dir detections \\\n",
        "  --output_dir videos \\\n",
        "  --update_ms 20 \\\n",
        "  --convert_h264"
      ]
    },
    {
      "cell_type": "code",
      "execution_count": null,
      "metadata": {
        "colab": {
          "base_uri": "https://localhost:8080/",
          "height": 228
        },
        "id": "_T9BZ_Ae0mpy",
        "outputId": "00d60697-9ca8-4ff9-87da-a5a9268e5101"
      },
      "outputs": [
        {
          "name": "stdout",
          "output_type": "stream",
          "text": [
            "Videos found: []\n"
          ]
        },
        {
          "ename": "FileNotFoundError",
          "evalue": "[Errno 2] No such file or directory: 'videos/MOT17-04-FRCNN.mp4'",
          "output_type": "error",
          "traceback": [
            "\u001b[0;31m---------------------------------------------------------------------------\u001b[0m",
            "\u001b[0;31mFileNotFoundError\u001b[0m                         Traceback (most recent call last)",
            "\u001b[0;32m/tmp/ipython-input-2507770859.py\u001b[0m in \u001b[0;36m<cell line: 0>\u001b[0;34m()\u001b[0m\n\u001b[1;32m     10\u001b[0m   \u001b[0;32mif\u001b[0m \u001b[0mvids\u001b[0m\u001b[0;34m:\u001b[0m\u001b[0;34m\u001b[0m\u001b[0;34m\u001b[0m\u001b[0m\n\u001b[1;32m     11\u001b[0m     \u001b[0mvideo_path\u001b[0m \u001b[0;34m=\u001b[0m \u001b[0mvids\u001b[0m\u001b[0;34m[\u001b[0m\u001b[0;36m0\u001b[0m\u001b[0;34m]\u001b[0m\u001b[0;34m\u001b[0m\u001b[0;34m\u001b[0m\u001b[0m\n\u001b[0;32m---> 12\u001b[0;31m \u001b[0mmp4\u001b[0m \u001b[0;34m=\u001b[0m \u001b[0mopen\u001b[0m\u001b[0;34m(\u001b[0m\u001b[0mvideo_path\u001b[0m\u001b[0;34m,\u001b[0m\u001b[0;34m'rb'\u001b[0m\u001b[0;34m)\u001b[0m\u001b[0;34m.\u001b[0m\u001b[0mread\u001b[0m\u001b[0;34m(\u001b[0m\u001b[0;34m)\u001b[0m\u001b[0;34m\u001b[0m\u001b[0;34m\u001b[0m\u001b[0m\n\u001b[0m\u001b[1;32m     13\u001b[0m \u001b[0mdata_url\u001b[0m \u001b[0;34m=\u001b[0m \u001b[0;34m\"data:video/mp4;base64,\"\u001b[0m \u001b[0;34m+\u001b[0m \u001b[0mb64encode\u001b[0m\u001b[0;34m(\u001b[0m\u001b[0mmp4\u001b[0m\u001b[0;34m)\u001b[0m\u001b[0;34m.\u001b[0m\u001b[0mdecode\u001b[0m\u001b[0;34m(\u001b[0m\u001b[0;34m)\u001b[0m\u001b[0;34m\u001b[0m\u001b[0;34m\u001b[0m\u001b[0m\n\u001b[1;32m     14\u001b[0m HTML(\"\"\"\n",
            "\u001b[0;31mFileNotFoundError\u001b[0m: [Errno 2] No such file or directory: 'videos/MOT17-04-FRCNN.mp4'"
          ]
        }
      ],
      "source": [
        "# Inline preview the generated video on Colab\n",
        "import os\n",
        "from IPython.display import HTML\n",
        "from base64 import b64encode\n",
        "video_path = 'videos/MOT17-04-FRCNN.mp4'\n",
        "if not os.path.exists(video_path):\n",
        "  # Fallback to a likely name; list videos\n",
        "  import glob\n",
        "  vids = glob.glob('videos/*.mp4')\n",
        "  print('Videos found:', vids)\n",
        "  if vids:\n",
        "    video_path = vids[0]\n",
        "with open(video_path,'rb') as f:\n",
        "  mp4 = f.read()\n",
        "data_url = \"data:video/mp4;base64,\" + b64encode(mp4).decode()\n",
        "HTML(\"\"\"\n",
        "<video width=800 controls>\n",
        "      <source src=\"%s\" type=\"video/mp4\">\n",
        "</video>\n",
        "\"\"\" % data_url)"
      ]
    }
  ],
  "metadata": {
    "accelerator": "GPU",
    "colab": {
      "gpuType": "T4",
      "provenance": []
    },
    "kernelspec": {
      "display_name": "Python 3",
      "name": "python3"
    },
    "language_info": {
      "name": "python"
    }
  },
  "nbformat": 4,
  "nbformat_minor": 0
}
